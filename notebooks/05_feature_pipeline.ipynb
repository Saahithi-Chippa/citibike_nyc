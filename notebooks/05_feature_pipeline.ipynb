{
 "cells": [
  {
   "cell_type": "code",
   "execution_count": 1,
   "id": "257ec76d-fbd1-4843-ac84-00c15d935d80",
   "metadata": {},
   "outputs": [],
   "source": [
    "import sys\n",
    "import os\n",
    "\n",
    "# Add the parent directory to the Python path\n",
    "sys.path.append(os.path.abspath(os.path.join(os.getcwd(), \"..\")))\n",
    "import src.config as config"
   ]
  },
  {
   "cell_type": "code",
   "execution_count": 2,
   "id": "e10edb38-b3d0-4287-ac5a-c0768df30110",
   "metadata": {},
   "outputs": [
    {
     "name": "stdout",
     "output_type": "stream",
     "text": [
      "2025-05-09 02:03:35.386049\n"
     ]
    }
   ],
   "source": [
    "from datetime import datetime, timedelta\n",
    "\n",
    "import pandas as pd\n",
    "\n",
    "current_date = pd.to_datetime(datetime.utcnow())\n",
    "print(f\"{current_date}\")"
   ]
  },
  {
   "cell_type": "code",
   "execution_count": 3,
   "id": "fbca5b50-8be0-44de-afa8-2184f78b52b4",
   "metadata": {},
   "outputs": [
    {
     "data": {
      "text/plain": [
       "numpy.datetime64('2025-05-09T02:03:35.386049000')"
      ]
     },
     "execution_count": 3,
     "metadata": {},
     "output_type": "execute_result"
    }
   ],
   "source": [
    "current_date.to_datetime64()"
   ]
  },
  {
   "cell_type": "code",
   "execution_count": 4,
   "id": "b78efad8-0005-4748-9962-b0627a191d85",
   "metadata": {},
   "outputs": [],
   "source": [
    "fetch_data_to = current_date\n",
    "fetch_data_from = current_date - timedelta(days=29)"
   ]
  },
  {
   "cell_type": "code",
   "execution_count": 5,
   "id": "d1ab6d8e-b3f8-4db0-8b22-b23f93e22369",
   "metadata": {},
   "outputs": [
    {
     "data": {
      "text/plain": [
       "Timestamp('2025-05-09 02:03:35.386049')"
      ]
     },
     "execution_count": 5,
     "metadata": {},
     "output_type": "execute_result"
    }
   ],
   "source": [
    "fetch_data_to"
   ]
  },
  {
   "cell_type": "code",
   "execution_count": 6,
   "id": "0094bedc-b3ec-4b27-b581-fb1d7a694b7b",
   "metadata": {},
   "outputs": [
    {
     "data": {
      "text/plain": [
       "Timestamp('2025-04-10 02:03:35.386049')"
      ]
     },
     "execution_count": 6,
     "metadata": {},
     "output_type": "execute_result"
    }
   ],
   "source": [
    "fetch_data_from"
   ]
  },
  {
   "cell_type": "code",
   "execution_count": 13,
   "id": "1d4bba1c-87d4-4c5f-bcde-07acab76707c",
   "metadata": {},
   "outputs": [],
   "source": [
    "from datetime import datetime, timedelta\n",
    "from typing import Union\n",
    "import pandas as pd\n",
    "from src.data_utils import load_and_process_bike_data\n",
    "\n",
    "def fetch_batch_raw_data(\n",
    "    from_date: Union[datetime, str], to_date: Union[datetime, str]\n",
    ") -> pd.DataFrame:\n",
    "    \"\"\"\n",
    "    Simulate production data by sampling historical data from 52 weeks ago (i.e., 1 year).\n",
    "\n",
    "    Args:\n",
    "        from_date (datetime or str): The start date for the data batch.\n",
    "        to_date (datetime or str): The end date for the data batch.\n",
    "\n",
    "    Returns:\n",
    "        pd.DataFrame: A DataFrame containing the simulated production data.\n",
    "    \"\"\"\n",
    "\n",
    "    # Convert string inputs to datetime if necessary\n",
    "    if isinstance(from_date, str):\n",
    "        from_date = datetime.fromisoformat(from_date)\n",
    "    if isinstance(to_date, str):\n",
    "        to_date = datetime.fromisoformat(to_date)\n",
    "\n",
    "    # Validate input dates\n",
    "    if not isinstance(from_date, datetime) or not isinstance(to_date, datetime):\n",
    "        raise ValueError(\n",
    "            \"Both 'from_date' and 'to_date' must be datetime objects or valid ISO format strings.\"\n",
    "        )\n",
    "    if from_date >= to_date:\n",
    "        raise ValueError(\"'from_date' must be earlier than 'to_date'.\")\n",
    "\n",
    "    # Shift dates back by 52 weeks (1 year)\n",
    "    historical_from_date = from_date - timedelta(weeks=52)\n",
    "    historical_to_date = to_date - timedelta(weeks=52)\n",
    "\n",
    "    # Load and filter data for the historical period\n",
    "    rides_from = load_and_process_bike_data(\n",
    "        year=historical_from_date.year, months=[historical_from_date.month]\n",
    "    )\n",
    "    rides_from = rides_from[\n",
    "        rides_from.start_datetime >= historical_from_date.to_datetime64()\n",
    "    ]\n",
    "\n",
    "    if historical_to_date.month != historical_from_date.month:\n",
    "        rides_to = load_and_process_bike_data(\n",
    "            year=historical_to_date.year, months=[historical_to_date.month]\n",
    "        )\n",
    "        rides_to = rides_to[\n",
    "            rides_to.start_datetime < historical_to_date.to_datetime64()\n",
    "        ]\n",
    "        # Combine the filtered data\n",
    "        rides = pd.concat([rides_from, rides_to], ignore_index=True)\n",
    "    else:\n",
    "        rides = rides_from\n",
    "    # Shift the data forward by 52 weeks to simulate recent data\n",
    "    rides[\"start_datetime\"] += timedelta(weeks=52)\n",
    "    # Sort the data for consistency\n",
    "    rides.sort_values(by=[\"start_station_id\", \"start_datetime\"], inplace=True)\n",
    "\n",
    "    return rides"
   ]
  },
  {
   "cell_type": "code",
   "execution_count": 11,
   "id": "a558d552-b477-426c-aee4-8a1f1203f412",
   "metadata": {},
   "outputs": [
    {
     "name": "stdout",
     "output_type": "stream",
     "text": [
      "File already exists for 2024-04.\n",
      "Loading data for 2024-04...\n"
     ]
    },
    {
     "name": "stderr",
     "output_type": "stream",
     "text": [
      "C:\\Users\\sahit\\ESDS\\github\\sp25_citibike_nyc\\src\\data_utils.py:186: DtypeWarning: Columns (5,7) have mixed types. Specify dtype option on import or set low_memory=False.\n",
      "  rides = pd.read_csv(file_path)\n"
     ]
    },
    {
     "name": "stdout",
     "output_type": "stream",
     "text": [
      "Total records: 3,214,453\n",
      "Valid records: 3,211,063\n",
      "Records dropped: 3,390 (0.11%)\n",
      "Successfully processed data for 2024-04.\n",
      "Combining all monthly data...\n",
      "Data loading and processing complete!\n",
      "File already exists for 2024-05.\n",
      "Loading data for 2024-05...\n"
     ]
    },
    {
     "name": "stderr",
     "output_type": "stream",
     "text": [
      "C:\\Users\\sahit\\ESDS\\github\\sp25_citibike_nyc\\src\\data_utils.py:186: DtypeWarning: Columns (5,7) have mixed types. Specify dtype option on import or set low_memory=False.\n",
      "  rides = pd.read_csv(file_path)\n"
     ]
    },
    {
     "name": "stdout",
     "output_type": "stream",
     "text": [
      "Total records: 4,228,540\n",
      "Valid records: 4,221,736\n",
      "Records dropped: 6,804 (0.16%)\n",
      "Successfully processed data for 2024-05.\n",
      "Combining all monthly data...\n",
      "Data loading and processing complete!\n"
     ]
    }
   ],
   "source": [
    "rides = fetch_batch_raw_data(fetch_data_from, fetch_data_to)"
   ]
  },
  {
   "cell_type": "code",
   "execution_count": 12,
   "id": "694993a9-f2df-4efe-83fa-05b90804a010",
   "metadata": {},
   "outputs": [
    {
     "data": {
      "text/html": [
       "<div>\n",
       "<style scoped>\n",
       "    .dataframe tbody tr th:only-of-type {\n",
       "        vertical-align: middle;\n",
       "    }\n",
       "\n",
       "    .dataframe tbody tr th {\n",
       "        vertical-align: top;\n",
       "    }\n",
       "\n",
       "    .dataframe thead th {\n",
       "        text-align: right;\n",
       "    }\n",
       "</style>\n",
       "<table border=\"1\" class=\"dataframe\">\n",
       "  <thead>\n",
       "    <tr style=\"text-align: right;\">\n",
       "      <th></th>\n",
       "      <th>start_datetime</th>\n",
       "      <th>start_station_id</th>\n",
       "    </tr>\n",
       "  </thead>\n",
       "  <tbody>\n",
       "    <tr>\n",
       "      <th>742384</th>\n",
       "      <td>2025-04-10 07:20:44.123</td>\n",
       "      <td>2733.03</td>\n",
       "    </tr>\n",
       "    <tr>\n",
       "      <th>542920</th>\n",
       "      <td>2025-04-10 08:12:28.871</td>\n",
       "      <td>2733.03</td>\n",
       "    </tr>\n",
       "    <tr>\n",
       "      <th>1001433</th>\n",
       "      <td>2025-04-10 11:05:15.790</td>\n",
       "      <td>2733.03</td>\n",
       "    </tr>\n",
       "    <tr>\n",
       "      <th>1789763</th>\n",
       "      <td>2025-04-10 14:51:08.590</td>\n",
       "      <td>2733.03</td>\n",
       "    </tr>\n",
       "    <tr>\n",
       "      <th>991605</th>\n",
       "      <td>2025-04-10 17:46:02.053</td>\n",
       "      <td>2733.03</td>\n",
       "    </tr>\n",
       "    <tr>\n",
       "      <th>...</th>\n",
       "      <td>...</td>\n",
       "      <td>...</td>\n",
       "    </tr>\n",
       "    <tr>\n",
       "      <th>3229278</th>\n",
       "      <td>2025-05-08 13:26:54.000</td>\n",
       "      <td>8897.05</td>\n",
       "    </tr>\n",
       "    <tr>\n",
       "      <th>3231290</th>\n",
       "      <td>2025-05-08 17:43:13.000</td>\n",
       "      <td>8897.05</td>\n",
       "    </tr>\n",
       "    <tr>\n",
       "      <th>2909109</th>\n",
       "      <td>2025-05-08 19:10:30.000</td>\n",
       "      <td>8897.05</td>\n",
       "    </tr>\n",
       "    <tr>\n",
       "      <th>2805203</th>\n",
       "      <td>2025-05-08 19:11:35.000</td>\n",
       "      <td>8897.05</td>\n",
       "    </tr>\n",
       "    <tr>\n",
       "      <th>2906126</th>\n",
       "      <td>2025-05-08 23:11:00.000</td>\n",
       "      <td>8897.05</td>\n",
       "    </tr>\n",
       "  </tbody>\n",
       "</table>\n",
       "<p>3529322 rows × 2 columns</p>\n",
       "</div>"
      ],
      "text/plain": [
       "                 start_datetime  start_station_id\n",
       "742384  2025-04-10 07:20:44.123           2733.03\n",
       "542920  2025-04-10 08:12:28.871           2733.03\n",
       "1001433 2025-04-10 11:05:15.790           2733.03\n",
       "1789763 2025-04-10 14:51:08.590           2733.03\n",
       "991605  2025-04-10 17:46:02.053           2733.03\n",
       "...                         ...               ...\n",
       "3229278 2025-05-08 13:26:54.000           8897.05\n",
       "3231290 2025-05-08 17:43:13.000           8897.05\n",
       "2909109 2025-05-08 19:10:30.000           8897.05\n",
       "2805203 2025-05-08 19:11:35.000           8897.05\n",
       "2906126 2025-05-08 23:11:00.000           8897.05\n",
       "\n",
       "[3529322 rows x 2 columns]"
      ]
     },
     "execution_count": 12,
     "metadata": {},
     "output_type": "execute_result"
    }
   ],
   "source": [
    "rides"
   ]
  },
  {
   "cell_type": "code",
   "execution_count": 14,
   "id": "b6b75b64-fcb4-460c-8c08-aaf02b98fa92",
   "metadata": {},
   "outputs": [],
   "source": [
    "from src.data_utils import transform_raw_data_into_ts_data\n",
    "ts_data = transform_raw_data_into_ts_data(rides)"
   ]
  },
  {
   "cell_type": "code",
   "execution_count": 16,
   "id": "246d5b31-764d-4e5c-b342-7d453b52c010",
   "metadata": {},
   "outputs": [],
   "source": [
    "locations = [5308.04, 5872.1, 6230.02]\n",
    "ts_data = ts_data[ts_data[\"start_station_id\"].isin(locations)]"
   ]
  },
  {
   "cell_type": "code",
   "execution_count": 17,
   "id": "4240ab7b-d185-45e9-beea-5ea97986b7bb",
   "metadata": {},
   "outputs": [
    {
     "data": {
      "text/html": [
       "<div>\n",
       "<style scoped>\n",
       "    .dataframe tbody tr th:only-of-type {\n",
       "        vertical-align: middle;\n",
       "    }\n",
       "\n",
       "    .dataframe tbody tr th {\n",
       "        vertical-align: top;\n",
       "    }\n",
       "\n",
       "    .dataframe thead th {\n",
       "        text-align: right;\n",
       "    }\n",
       "</style>\n",
       "<table border=\"1\" class=\"dataframe\">\n",
       "  <thead>\n",
       "    <tr style=\"text-align: right;\">\n",
       "      <th></th>\n",
       "      <th>start_hour</th>\n",
       "      <th>start_station_id</th>\n",
       "      <th>rides</th>\n",
       "    </tr>\n",
       "  </thead>\n",
       "  <tbody>\n",
       "    <tr>\n",
       "      <th>515780</th>\n",
       "      <td>2025-04-10 02:00:00</td>\n",
       "      <td>5308.04</td>\n",
       "      <td>1</td>\n",
       "    </tr>\n",
       "    <tr>\n",
       "      <th>515781</th>\n",
       "      <td>2025-04-10 03:00:00</td>\n",
       "      <td>5308.04</td>\n",
       "      <td>1</td>\n",
       "    </tr>\n",
       "    <tr>\n",
       "      <th>515782</th>\n",
       "      <td>2025-04-10 04:00:00</td>\n",
       "      <td>5308.04</td>\n",
       "      <td>0</td>\n",
       "    </tr>\n",
       "    <tr>\n",
       "      <th>515783</th>\n",
       "      <td>2025-04-10 05:00:00</td>\n",
       "      <td>5308.04</td>\n",
       "      <td>0</td>\n",
       "    </tr>\n",
       "    <tr>\n",
       "      <th>515784</th>\n",
       "      <td>2025-04-10 06:00:00</td>\n",
       "      <td>5308.04</td>\n",
       "      <td>2</td>\n",
       "    </tr>\n",
       "    <tr>\n",
       "      <th>...</th>\n",
       "      <td>...</td>\n",
       "      <td>...</td>\n",
       "      <td>...</td>\n",
       "    </tr>\n",
       "    <tr>\n",
       "      <th>768089</th>\n",
       "      <td>2025-05-08 22:00:00</td>\n",
       "      <td>6230.02</td>\n",
       "      <td>8</td>\n",
       "    </tr>\n",
       "    <tr>\n",
       "      <th>768090</th>\n",
       "      <td>2025-05-08 23:00:00</td>\n",
       "      <td>6230.02</td>\n",
       "      <td>11</td>\n",
       "    </tr>\n",
       "    <tr>\n",
       "      <th>768091</th>\n",
       "      <td>2025-05-09 00:00:00</td>\n",
       "      <td>6230.02</td>\n",
       "      <td>7</td>\n",
       "    </tr>\n",
       "    <tr>\n",
       "      <th>768092</th>\n",
       "      <td>2025-05-09 01:00:00</td>\n",
       "      <td>6230.02</td>\n",
       "      <td>0</td>\n",
       "    </tr>\n",
       "    <tr>\n",
       "      <th>768093</th>\n",
       "      <td>2025-05-09 02:00:00</td>\n",
       "      <td>6230.02</td>\n",
       "      <td>0</td>\n",
       "    </tr>\n",
       "  </tbody>\n",
       "</table>\n",
       "<p>2091 rows × 3 columns</p>\n",
       "</div>"
      ],
      "text/plain": [
       "                start_hour  start_station_id  rides\n",
       "515780 2025-04-10 02:00:00           5308.04      1\n",
       "515781 2025-04-10 03:00:00           5308.04      1\n",
       "515782 2025-04-10 04:00:00           5308.04      0\n",
       "515783 2025-04-10 05:00:00           5308.04      0\n",
       "515784 2025-04-10 06:00:00           5308.04      2\n",
       "...                    ...               ...    ...\n",
       "768089 2025-05-08 22:00:00           6230.02      8\n",
       "768090 2025-05-08 23:00:00           6230.02     11\n",
       "768091 2025-05-09 00:00:00           6230.02      7\n",
       "768092 2025-05-09 01:00:00           6230.02      0\n",
       "768093 2025-05-09 02:00:00           6230.02      0\n",
       "\n",
       "[2091 rows x 3 columns]"
      ]
     },
     "execution_count": 17,
     "metadata": {},
     "output_type": "execute_result"
    }
   ],
   "source": [
    "ts_data"
   ]
  },
  {
   "cell_type": "code",
   "execution_count": 18,
   "id": "a8979925-a233-447e-84a9-f46028b44ed2",
   "metadata": {},
   "outputs": [
    {
     "name": "stdout",
     "output_type": "stream",
     "text": [
      "2025-05-08 22:16:04,001 INFO: Initializing external client\n",
      "2025-05-08 22:16:04,004 INFO: Base URL: https://c.app.hopsworks.ai:443\n"
     ]
    },
    {
     "name": "stderr",
     "output_type": "stream",
     "text": [
      "\n",
      "\n",
      "UserWarning: The installed hopsworks client version 4.1.3 may not be compatible with the connected Hopsworks backend version 4.2.0. \n",
      "To ensure compatibility please install the latest bug fix release matching the minor version of your backend (4.2) by running 'pip install hopsworks==4.2.*'\n"
     ]
    },
    {
     "name": "stdout",
     "output_type": "stream",
     "text": [
      "2025-05-08 22:16:07,135 INFO: Python Engine initialized.\n",
      "\n",
      "Logged in to project, explore it here https://c.app.hopsworks.ai:443/p/1213682\n"
     ]
    }
   ],
   "source": [
    "import hopsworks\n",
    "\n",
    "# connect to the project\n",
    "project = hopsworks.login(\n",
    "    project=config.HOPSWORKS_PROJECT_NAME,\n",
    "    api_key_value=config.HOPSWORKS_API_KEY\n",
    ")\n",
    "\n",
    "# connect to the feature store\n",
    "feature_store = project.get_feature_store()\n",
    "\n",
    "# connect to the feature group\n",
    "feature_group = feature_store.get_feature_group(\n",
    "    name=config.FEATURE_GROUP_NAME,\n",
    "    version=config.FEATURE_GROUP_VERSION,\n",
    ")\n",
    "\n"
   ]
  },
  {
   "cell_type": "code",
   "execution_count": 19,
   "id": "795e1683-7094-4cea-b7c0-060d8083afd0",
   "metadata": {},
   "outputs": [
    {
     "name": "stderr",
     "output_type": "stream",
     "text": [
      "Uploading Dataframe: 100.00% |███████████████████████████| Rows 2091/2091 | Elapsed Time: 00:00 | Remaining Time: 00:00\n"
     ]
    },
    {
     "name": "stdout",
     "output_type": "stream",
     "text": [
      "Launching job: time_series_hourly_feature_group_1_offline_fg_materialization\n",
      "Job started successfully, you can follow the progress at \n",
      "https://c.app.hopsworks.ai:443/p/1213682/jobs/named/time_series_hourly_feature_group_1_offline_fg_materialization/executions\n"
     ]
    },
    {
     "data": {
      "text/plain": [
       "(Job('time_series_hourly_feature_group_1_offline_fg_materialization', 'SPARK'),\n",
       " None)"
      ]
     },
     "execution_count": 19,
     "metadata": {},
     "output_type": "execute_result"
    }
   ],
   "source": [
    "feature_group.insert(ts_data, write_options={\"wait_for_job\": False})"
   ]
  },
  {
   "cell_type": "code",
   "execution_count": null,
   "id": "73db7a0b-c595-431e-a5cf-28cc7ff90e47",
   "metadata": {},
   "outputs": [],
   "source": []
  }
 ],
 "metadata": {
  "kernelspec": {
   "display_name": "Python 3 (ipykernel)",
   "language": "python",
   "name": "python3"
  },
  "language_info": {
   "codemirror_mode": {
    "name": "ipython",
    "version": 3
   },
   "file_extension": ".py",
   "mimetype": "text/x-python",
   "name": "python",
   "nbconvert_exporter": "python",
   "pygments_lexer": "ipython3",
   "version": "3.11.11"
  }
 },
 "nbformat": 4,
 "nbformat_minor": 5
}

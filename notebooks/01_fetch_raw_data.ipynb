{
 "cells": [
  {
   "cell_type": "code",
   "execution_count": 19,
   "id": "6fb4841f-1bef-4342-ab66-1bffcd44584a",
   "metadata": {},
   "outputs": [],
   "source": [
    "from pathlib import Path\n",
    "import pandas as pd\n",
    "import requests\n",
    "import zipfile\n",
    "import io\n",
    "\n",
    "def fetch_raw_data(year: int, month: int) -> Path:\n",
    "    urls = [\n",
    "        f\"https://s3.amazonaws.com/tripdata/{year}{month:02}-citibike-tripdata.csv.zip\",\n",
    "        f\"https://s3.amazonaws.com/tripdata/{year}{month:02}-citibike-tripdata.zip\"\n",
    "    ]\n",
    "    \n",
    "    for url in urls:\n",
    "        response = requests.get(url)\n",
    "        if response.status_code == 200:\n",
    "            print(f\"Successfully downloaded zip from: {url}\")\n",
    "            break\n",
    "    else:\n",
    "        raise Exception(f\"{url} is not available for {year}{month:02}\")\n",
    "\n",
    "    # Extract CSVs from the zip\n",
    "    with zipfile.ZipFile(io.BytesIO(response.content)) as z:\n",
    "        csv_files = [name for name in z.namelist() if name.endswith(\".csv\")]\n",
    "        \n",
    "        df_list = []\n",
    "        for csv_file in csv_files:\n",
    "            with z.open(csv_file) as f:\n",
    "                df = pd.read_csv(f, low_memory=False, encoding = 'latin1')\n",
    "                 # Drop columns like 'unnamed: 0', 'unnamed_1', etc.\n",
    "                df = df.loc[:, ~df.columns.str.lower().str.startswith(\"unnamed\")]\n",
    "                df_list.append(df)\n",
    "        \n",
    "        combined_df = pd.concat(df_list, ignore_index=True)\n",
    "\n",
    "    # Save to CSV in the target directory\n",
    "    path = Path(\"..\") / \"data\" / \"raw\" / f\"rides_{year}_{month:02}.csv\"\n",
    "    combined_df.to_csv(path, index=False)\n",
    "    print(f\"Saved CSV file to: {path}\")\n",
    "    \n",
    "    return path\n"
   ]
  },
  {
   "cell_type": "code",
   "execution_count": 20,
   "id": "6d354c15-8430-4ded-91fd-fb6cf7af514d",
   "metadata": {},
   "outputs": [
    {
     "name": "stdout",
     "output_type": "stream",
     "text": [
      "Successfully downloaded zip from: https://s3.amazonaws.com/tripdata/202406-citibike-tripdata.zip\n",
      "Saved CSV file to: ..\\data\\raw\\rides_2024_06.csv\n"
     ]
    },
    {
     "data": {
      "text/plain": [
       "WindowsPath('../data/raw/rides_2024_06.csv')"
      ]
     },
     "execution_count": 20,
     "metadata": {},
     "output_type": "execute_result"
    }
   ],
   "source": [
    "fetch_raw_data(2024, 6)\n"
   ]
  },
  {
   "cell_type": "code",
   "execution_count": null,
   "id": "3a054a04-34eb-4c2e-ab78-4e0e3f83bf74",
   "metadata": {},
   "outputs": [],
   "source": []
  }
 ],
 "metadata": {
  "kernelspec": {
   "display_name": "Python 3 (ipykernel)",
   "language": "python",
   "name": "python3"
  },
  "language_info": {
   "codemirror_mode": {
    "name": "ipython",
    "version": 3
   },
   "file_extension": ".py",
   "mimetype": "text/x-python",
   "name": "python",
   "nbconvert_exporter": "python",
   "pygments_lexer": "ipython3",
   "version": "3.11.11"
  }
 },
 "nbformat": 4,
 "nbformat_minor": 5
}
